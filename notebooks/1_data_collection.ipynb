{
 "cells": [
  {
   "cell_type": "markdown",
   "metadata": {},
   "source": [
    "# Data Collection for House Price Predictors"
   ]
  },
  {
   "cell_type": "markdown",
   "metadata": {},
   "source": [
    "This notebook documents the steps to collect the house price dataset from Kaggle using the Kaggle API. We will set up the Kaggle API, download the dataset, and extract it to the appropriate directory.\n"
   ]
  },
  {
   "cell_type": "markdown",
   "metadata": {},
   "source": [
    "## Kaggle API Setup"
   ]
  },
  {
   "cell_type": "markdown",
   "metadata": {},
   "source": [
    "### 1. Install the Kaggle Package\n",
    "\n",
    "If you have not installed the Kaggle package, you can install it using the following command:\n",
    "\n",
    "```bash\n",
    "pip install kaggle\n",
    "```"
   ]
  },
  {
   "cell_type": "markdown",
   "metadata": {},
   "source": [
    "### 2. Kaggle API Token\n",
    "\n",
    "- Go to your Kaggle account and navigate to the `Account` tab.\n",
    "- Scroll down to the `API` section and click on `Create New API Token`.\n",
    "- This will download a `kaggle.json` file to your computer.\n",
    "- Move the `kaggle.json` file to the `~/.kaggle/` directory on Unix-based systems or `C:\\Users\\<Windows-username>\\.kaggle\\` on Windows."
   ]
  },
  {
   "cell_type": "markdown",
   "metadata": {},
   "source": [
    "### 3. Set Environment Variables (optional but recommended for security)\n",
    "\n",
    "You can set the Kaggle username and key as environment variables. This is recommended for security reasons.\n",
    "\n",
    "```bash\n",
    "export KAGGLE_USERNAME=your_kaggle_username\n",
    "export KAGGLE_KEY=your_kaggle_key\n",
    "```\n",
    "For Windows, you can set the environment variables using the following commands:\n",
    "\n",
    "```bash\n",
    "set KAGGLE_USERNAME=your_kaggle_username\n",
    "set KAGGLE_KEY=your_kaggle_key\n",
    "```"
   ]
  },
  {
   "cell_type": "markdown",
   "metadata": {},
   "source": [
    "## Data Collection Script\n",
    "\n",
    "We use a Python script to download the dataset from Kaggle. The script is saved as `src/data_collection.py`."
   ]
  },
  {
   "cell_type": "code",
   "execution_count": null,
   "metadata": {},
   "outputs": [],
   "source": [
    "import os\n",
    "import zipfile\n",
    "\n",
    "\n",
    "def download_and_extract_data(competition, file_path):\n",
    "    # Download the dataset using Kaggle API\n",
    "    os.system(f'kaggle competitions download -c {competition} -p {file_path}')\n",
    "\n",
    "    # Extract the downloaded zip file\n",
    "    for file in os.listdir(file_path):\n",
    "        if file.endswith('.zip'):\n",
    "            with zipfile.ZipFile(os.path.join(file_path, file), 'r') as zip_ref:\n",
    "                zip_ref.extractall(file_path)\n",
    "            os.remove(os.path.join(file_path, file))\n",
    "            \n",
    "\n",
    "if __name__ == '__main__':\n",
    "    competition = \"house-prices-advanced-regression-techniques\"\n",
    "    file_path = \"data/raw/\"\n",
    "\n",
    "    # Create the directory if it does not exist\n",
    "    if not os.path.exists(file_path):\n",
    "        os.makedirs(file_path)\n",
    "\n",
    "    # Download and extract the data\n",
    "    download_and_extract_data(competition, file_path)\n",
    "    print(\"Data downloaded and extracted successfully!\")"
   ]
  },
  {
   "cell_type": "markdown",
   "metadata": {},
   "source": [
    "## Running the Script\n",
    "\n",
    "Navigate to the project directory and run the script to download and extract the data:\n",
    "\n",
    "```bash\n",
    "python src/data_collection.py\n",
    "```"
   ]
  },
  {
   "cell_type": "markdown",
   "metadata": {},
   "source": [
    "## Verify the Data\n",
    "\n",
    "After running the script, verify that the data has been downloaded and extracted correctly by checking the `data/raw/` directory. You should see the following files:\n",
    "\n",
    "- `train.csv`\n",
    "- `test.csv`\n",
    "- `sample_submission.csv`\n",
    "- `data_description.txt`"
   ]
  }
 ],
 "metadata": {
  "kernelspec": {
   "display_name": "env",
   "language": "python",
   "name": "python3"
  },
  "language_info": {
   "name": "python",
   "version": "3.10.13"
  }
 },
 "nbformat": 4,
 "nbformat_minor": 2
}
